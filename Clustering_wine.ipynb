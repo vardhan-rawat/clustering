{
  "cells": [
    {
      "cell_type": "code",
      "execution_count": 1,
      "metadata": {
        "id": "nTsiAmvALUBm"
      },
      "outputs": [],
      "source": [
        "## 1. Import Libraries\n",
        "\n",
        "import numpy as np\n",
        "import pandas as pd\n",
        "import matplotlib.pyplot as plt\n",
        "import seaborn as sns\n",
        "\n",
        "from sklearn import datasets\n",
        "from sklearn.preprocessing import MinMaxScaler, StandardScaler\n",
        "from sklearn.decomposition import PCA\n",
        "from sklearn.cluster import KMeans, MeanShift, estimate_bandwidth, AgglomerativeClustering\n",
        "from sklearn.metrics import silhouette_score, calinski_harabasz_score, davies_bouldin_score\n",
        "import warnings\n",
        "warnings.filterwarnings('ignore')"
      ]
    },
    {
      "cell_type": "code",
      "execution_count": 2,
      "metadata": {
        "id": "rIqLDFDRQIrh"
      },
      "outputs": [],
      "source": [
        "## 2. Load Dataset\n",
        "\n",
        "data = datasets.load_wine()\n",
        "X = pd.DataFrame(data.data, columns=data.feature_names)\n",
        "y = data.target"
      ]
    },
    {
      "cell_type": "code",
      "execution_count": 3,
      "metadata": {
        "id": "qsjn9eHLPWOn"
      },
      "outputs": [],
      "source": [
        "## 3. Preprocessing Functions\n",
        "\n",
        "def normalize(X):\n",
        "    return MinMaxScaler().fit_transform(X)\n",
        "\n",
        "def standardize(X):\n",
        "    return StandardScaler().fit_transform(X)\n",
        "\n",
        "def apply_pca(X, n_components=2):\n",
        "    return PCA(n_components=n_components).fit_transform(X)\n",
        "\n",
        "def transform_and_normalize(X):\n",
        "    return normalize(standardize(X))\n",
        "\n",
        "def transform_norm_pca(X):\n",
        "    return apply_pca(transform_and_normalize(X))"
      ]
    },
    {
      "cell_type": "code",
      "execution_count": 4,
      "metadata": {
        "id": "vjeVlOOyQQu5"
      },
      "outputs": [],
      "source": [
        "## 4. Clustering Evaluation\n",
        "\n",
        "def evaluate_clustering(X, labels):\n",
        "    return {\n",
        "        'Silhouette': round(silhouette_score(X, labels), 2),\n",
        "        'Calinski-Harabasz': int(calinski_harabasz_score(X, labels)),\n",
        "        'Davies-Bouldin': round(davies_bouldin_score(X, labels), 2)\n",
        "    }"
      ]
    },
    {
      "cell_type": "code",
      "execution_count": 5,
      "metadata": {
        "id": "ji-bwq0JQTl6"
      },
      "outputs": [],
      "source": [
        "## 5. Run Clustering\n",
        "\n",
        "def run_all_clustering(X, name):\n",
        "    results = []\n",
        "\n",
        "    # KMeans\n",
        "    for k in [3, 4, 5]:\n",
        "        model = KMeans(n_clusters=k, random_state=42).fit(X)\n",
        "        res = evaluate_clustering(X, model.labels_)\n",
        "        results.append(['KMeans', name, f'c={k}'] + list(res.values()))\n",
        "\n",
        "    # Hierarchical\n",
        "    for k in [3, 4, 5]:\n",
        "        model = AgglomerativeClustering(n_clusters=k).fit(X)\n",
        "        res = evaluate_clustering(X, model.labels_)\n",
        "        results.append(['Hierarchical', name, f'c={k}'] + list(res.values()))\n",
        "\n",
        "    # Mean Shift (auto bandwidth)\n",
        "    try:\n",
        "        ms = MeanShift(bandwidth=estimate_bandwidth(X, quantile=0.2)).fit(X)\n",
        "        res = evaluate_clustering(X, ms.labels_)\n",
        "        results.append(['MeanShift', name, f'c={len(np.unique(ms.labels_))}'] + list(res.values()))\n",
        "    except:\n",
        "        results.append(['MeanShift', name, 'c=NA', 'NA', 'NA', 'NA'])\n",
        "\n",
        "    return results"
      ]
    },
    {
      "cell_type": "code",
      "execution_count": 6,
      "metadata": {
        "id": "McCpgL7sQXQ5"
      },
      "outputs": [],
      "source": [
        "## 6. All Variants of Data\n",
        "\n",
        "variants = {\n",
        "    'No Processing': X,\n",
        "    'Normalized': normalize(X),\n",
        "    'Transformed': standardize(X),\n",
        "    'PCA': apply_pca(X),\n",
        "    'T+N': transform_and_normalize(X),\n",
        "    'T+N+PCA': transform_norm_pca(X)\n",
        "}\n",
        "\n",
        "all_results = []\n",
        "\n",
        "for name, data_variant in variants.items():\n",
        "    res = run_all_clustering(data_variant, name)\n",
        "    all_results.extend(res)"
      ]
    },
    {
      "cell_type": "code",
      "execution_count": 7,
      "metadata": {
        "colab": {
          "base_uri": "https://localhost:8080/"
        },
        "id": "xN7QgPJwQcat",
        "outputId": "cb95d1d2-4215-4eff-c3a4-98a7c5b9612e"
      },
      "outputs": [
        {
          "output_type": "stream",
          "name": "stdout",
          "text": [
            "          Method  Preprocessing Clusters  Silhouette  Calinski-Harabasz  \\\n",
            "0         KMeans  No Processing      c=3        0.56                497   \n",
            "1         KMeans  No Processing      c=4        0.57                696   \n",
            "2         KMeans  No Processing      c=5        0.51                745   \n",
            "3   Hierarchical  No Processing      c=3        0.56                552   \n",
            "4   Hierarchical  No Processing      c=4        0.56                670   \n",
            "5   Hierarchical  No Processing      c=5        0.51                684   \n",
            "6      MeanShift  No Processing      c=5        0.55                287   \n",
            "7         KMeans     Normalized      c=3        0.30                 83   \n",
            "8         KMeans     Normalized      c=4        0.24                 65   \n",
            "9         KMeans     Normalized      c=5        0.20                 53   \n",
            "10  Hierarchical     Normalized      c=3        0.29                 81   \n",
            "11  Hierarchical     Normalized      c=4        0.25                 63   \n",
            "12  Hierarchical     Normalized      c=5        0.20                 52   \n",
            "13     MeanShift     Normalized      c=5        0.22                 25   \n",
            "14        KMeans    Transformed      c=3        0.28                 70   \n",
            "15        KMeans    Transformed      c=4        0.25                 52   \n",
            "16        KMeans    Transformed      c=5        0.18                 45   \n",
            "17  Hierarchical    Transformed      c=3        0.28                 67   \n",
            "18  Hierarchical    Transformed      c=4        0.23                 51   \n",
            "19  Hierarchical    Transformed      c=5        0.19                 43   \n",
            "20     MeanShift    Transformed      c=6        0.20                 19   \n",
            "21        KMeans            PCA      c=3        0.56                497   \n",
            "22        KMeans            PCA      c=4        0.57                698   \n",
            "23        KMeans            PCA      c=5        0.57                705   \n",
            "24  Hierarchical            PCA      c=3        0.57                553   \n",
            "25  Hierarchical            PCA      c=4        0.56                672   \n",
            "26  Hierarchical            PCA      c=5        0.50                685   \n",
            "27     MeanShift            PCA      c=5        0.55                287   \n",
            "28        KMeans            T+N      c=3        0.30                 83   \n",
            "29        KMeans            T+N      c=4        0.24                 65   \n",
            "30        KMeans            T+N      c=5        0.20                 53   \n",
            "31  Hierarchical            T+N      c=3        0.29                 81   \n",
            "32  Hierarchical            T+N      c=4        0.25                 63   \n",
            "33  Hierarchical            T+N      c=5        0.20                 52   \n",
            "34     MeanShift            T+N      c=5        0.22                 25   \n",
            "35        KMeans        T+N+PCA      c=3        0.57                376   \n",
            "36        KMeans        T+N+PCA      c=4        0.49                351   \n",
            "37        KMeans        T+N+PCA      c=5        0.42                332   \n",
            "38  Hierarchical        T+N+PCA      c=3        0.54                339   \n",
            "39  Hierarchical        T+N+PCA      c=4        0.48                336   \n",
            "40  Hierarchical        T+N+PCA      c=5        0.45                337   \n",
            "41     MeanShift        T+N+PCA      c=3        0.57                374   \n",
            "\n",
            "    Davies-Bouldin  \n",
            "0             0.55  \n",
            "1             0.55  \n",
            "2             0.57  \n",
            "3             0.54  \n",
            "4             0.55  \n",
            "5             0.55  \n",
            "6             0.45  \n",
            "7             1.31  \n",
            "8             1.71  \n",
            "9             1.85  \n",
            "10            1.32  \n",
            "11            1.75  \n",
            "12            1.94  \n",
            "13            1.13  \n",
            "14            1.39  \n",
            "15            1.70  \n",
            "16            1.91  \n",
            "17            1.42  \n",
            "18            1.79  \n",
            "19            1.92  \n",
            "20            1.06  \n",
            "21            0.55  \n",
            "22            0.55  \n",
            "23            0.48  \n",
            "24            0.53  \n",
            "25            0.55  \n",
            "26            0.56  \n",
            "27            0.45  \n",
            "28            1.31  \n",
            "29            1.71  \n",
            "30            1.85  \n",
            "31            1.32  \n",
            "32            1.75  \n",
            "33            1.94  \n",
            "34            1.13  \n",
            "35            0.58  \n",
            "36            0.73  \n",
            "37            0.82  \n",
            "38            0.61  \n",
            "39            0.74  \n",
            "40            0.76  \n",
            "41            0.59  \n"
          ]
        }
      ],
      "source": [
        "## 7. Results DataFrame\n",
        "\n",
        "results_df = pd.DataFrame(all_results, columns=['Method', 'Preprocessing', 'Clusters', 'Silhouette', 'Calinski-Harabasz', 'Davies-Bouldin'])\n",
        "\n",
        "# Display\n",
        "print(results_df)"
      ]
    },
    {
      "cell_type": "code",
      "execution_count": 8,
      "metadata": {
        "colab": {
          "base_uri": "https://localhost:8080/",
          "height": 564
        },
        "id": "qVMBO2mHQepu",
        "outputId": "47dc094e-9ec5-415e-f94d-1584d419107b"
      },
      "outputs": [
        {
          "output_type": "display_data",
          "data": {
            "text/plain": [
              "<Figure size 1200x600 with 1 Axes>"
            ],
            "image/png": "[encoded data removed]"
          },
          "metadata": {}
        }
      ],
      "source": [
        "## 8. Visualization\n",
        "\n",
        "plt.figure(figsize=(12,6))\n",
        "sns.barplot(data=results_df[results_df['Method'] == 'KMeans'], x='Clusters', y='Silhouette', hue='Preprocessing')\n",
        "plt.title('KMeans Clustering - Silhouette Scores')\n",
        "plt.legend(bbox_to_anchor=(1.05, 1), loc='upper left')\n",
        "plt.show()"
      ]
    }
  ],
  "metadata": {
    "colab": {
      "provenance": []
    },
    "kernelspec": {
      "display_name": "Python 3",
      "name": "python3"
    },
    "language_info": {
      "codemirror_mode": {
        "name": "ipython",
        "version": 3
      },
      "file_extension": ".py",
      "mimetype": "text/x-python",
      "name": "python",
      "nbconvert_exporter": "python",
      "pygments_lexer": "ipython3",
      "version": "3.11.1"
    }
  },
  "nbformat": 4,
  "nbformat_minor": 0
}